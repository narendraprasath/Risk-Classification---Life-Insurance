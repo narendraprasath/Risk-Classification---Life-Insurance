{
 "cells": [
  {
   "cell_type": "markdown",
   "metadata": {},
   "source": [
    "## Risk Classification  - Life Insurance Data\n",
    "\n",
    "*Risk Classification* is the task of classifies risk of the person\n",
    "<center> <img src=\"iStock_insurancehands300.png\" title=\"Life Insurance\"></img> </center>\n",
    "The below are the topics which the notebook covered,<br>\n",
    "\n",
    "<ul>\n",
    "    - <a href=\"#readDataset\">Read Dataset</a><br>\n",
    "    - <a href=\"#labelCount\">Response Vs No of records</a><br>\n",
    "    - <a href=\"#preprocess\">Preprocessing</a><br>\n",
    "    - <a href=\"#featureSelection\">Feature Selection</a><br>\n",
    "    - <a href=\"#buildModel\">Build Model</a><br>\n",
    "    - <a href=\"#lime\">Understanding Model Predictions with LIME</a></ul>"
   ]
  },
  {
   "cell_type": "code",
   "execution_count": 106,
   "metadata": {},
   "outputs": [],
   "source": [
    "#Necessary packages\n",
    "import pandas as pd\n",
    "import matplotlib.pyplot as plt\n",
    "\n",
    "from sklearn.feature_selection import SelectKBest\n",
    "from sklearn.feature_selection import chi2\n",
    "from sklearn.preprocessing import LabelEncoder\n",
    "from sklearn.model_selection import train_test_split\n",
    "from sklearn.metrics import accuracy_score,confusion_matrix\n",
    "from sklearn.model_selection import cross_val_score,GridSearchCV\n",
    "from sklearn.ensemble import RandomForestClassifier\n",
    "import xgboost as xgb\n",
    "from sklearn.utils.multiclass import unique_labels\n",
    "from sklearn.metrics import classification_report"
   ]
  },
  {
   "cell_type": "markdown",
   "metadata": {},
   "source": [
    "<a id=\"readDataset\"></a>\n",
    "### Read Dataset"
   ]
  },
  {
   "cell_type": "code",
   "execution_count": 2,
   "metadata": {},
   "outputs": [],
   "source": [
    "# construct dataframe using pandas\n",
    "df = pd.read_csv(\"data/Training.csv\")"
   ]
  },
  {
   "cell_type": "code",
   "execution_count": 3,
   "metadata": {},
   "outputs": [
    {
     "name": "stdout",
     "output_type": "stream",
     "text": [
      "Dimension of the dataset (59381, 128)\n"
     ]
    },
    {
     "data": {
      "text/html": [
       "<div>\n",
       "<style scoped>\n",
       "    .dataframe tbody tr th:only-of-type {\n",
       "        vertical-align: middle;\n",
       "    }\n",
       "\n",
       "    .dataframe tbody tr th {\n",
       "        vertical-align: top;\n",
       "    }\n",
       "\n",
       "    .dataframe thead th {\n",
       "        text-align: right;\n",
       "    }\n",
       "</style>\n",
       "<table border=\"1\" class=\"dataframe\">\n",
       "  <thead>\n",
       "    <tr style=\"text-align: right;\">\n",
       "      <th></th>\n",
       "      <th>Id</th>\n",
       "      <th>Product_Info_1</th>\n",
       "      <th>Product_Info_2</th>\n",
       "      <th>Product_Info_3</th>\n",
       "      <th>Product_Info_4</th>\n",
       "      <th>Product_Info_5</th>\n",
       "      <th>Product_Info_6</th>\n",
       "      <th>Product_Info_7</th>\n",
       "      <th>Ins_Age</th>\n",
       "      <th>Ht</th>\n",
       "      <th>...</th>\n",
       "      <th>Medical_Keyword_40</th>\n",
       "      <th>Medical_Keyword_41</th>\n",
       "      <th>Medical_Keyword_42</th>\n",
       "      <th>Medical_Keyword_43</th>\n",
       "      <th>Medical_Keyword_44</th>\n",
       "      <th>Medical_Keyword_45</th>\n",
       "      <th>Medical_Keyword_46</th>\n",
       "      <th>Medical_Keyword_47</th>\n",
       "      <th>Medical_Keyword_48</th>\n",
       "      <th>Response</th>\n",
       "    </tr>\n",
       "  </thead>\n",
       "  <tbody>\n",
       "    <tr>\n",
       "      <th>0</th>\n",
       "      <td>2</td>\n",
       "      <td>1</td>\n",
       "      <td>D3</td>\n",
       "      <td>10</td>\n",
       "      <td>0.076923</td>\n",
       "      <td>2</td>\n",
       "      <td>1</td>\n",
       "      <td>1</td>\n",
       "      <td>0.641791</td>\n",
       "      <td>0.581818</td>\n",
       "      <td>...</td>\n",
       "      <td>0</td>\n",
       "      <td>0</td>\n",
       "      <td>0</td>\n",
       "      <td>0</td>\n",
       "      <td>0</td>\n",
       "      <td>0</td>\n",
       "      <td>0</td>\n",
       "      <td>0</td>\n",
       "      <td>0</td>\n",
       "      <td>8</td>\n",
       "    </tr>\n",
       "    <tr>\n",
       "      <th>1</th>\n",
       "      <td>5</td>\n",
       "      <td>1</td>\n",
       "      <td>A1</td>\n",
       "      <td>26</td>\n",
       "      <td>0.076923</td>\n",
       "      <td>2</td>\n",
       "      <td>3</td>\n",
       "      <td>1</td>\n",
       "      <td>0.059701</td>\n",
       "      <td>0.600000</td>\n",
       "      <td>...</td>\n",
       "      <td>0</td>\n",
       "      <td>0</td>\n",
       "      <td>0</td>\n",
       "      <td>0</td>\n",
       "      <td>0</td>\n",
       "      <td>0</td>\n",
       "      <td>0</td>\n",
       "      <td>0</td>\n",
       "      <td>0</td>\n",
       "      <td>4</td>\n",
       "    </tr>\n",
       "    <tr>\n",
       "      <th>2</th>\n",
       "      <td>6</td>\n",
       "      <td>1</td>\n",
       "      <td>E1</td>\n",
       "      <td>26</td>\n",
       "      <td>0.076923</td>\n",
       "      <td>2</td>\n",
       "      <td>3</td>\n",
       "      <td>1</td>\n",
       "      <td>0.029851</td>\n",
       "      <td>0.745455</td>\n",
       "      <td>...</td>\n",
       "      <td>0</td>\n",
       "      <td>0</td>\n",
       "      <td>0</td>\n",
       "      <td>0</td>\n",
       "      <td>0</td>\n",
       "      <td>0</td>\n",
       "      <td>0</td>\n",
       "      <td>0</td>\n",
       "      <td>0</td>\n",
       "      <td>8</td>\n",
       "    </tr>\n",
       "    <tr>\n",
       "      <th>3</th>\n",
       "      <td>7</td>\n",
       "      <td>1</td>\n",
       "      <td>D4</td>\n",
       "      <td>10</td>\n",
       "      <td>0.487179</td>\n",
       "      <td>2</td>\n",
       "      <td>3</td>\n",
       "      <td>1</td>\n",
       "      <td>0.164179</td>\n",
       "      <td>0.672727</td>\n",
       "      <td>...</td>\n",
       "      <td>0</td>\n",
       "      <td>0</td>\n",
       "      <td>0</td>\n",
       "      <td>0</td>\n",
       "      <td>0</td>\n",
       "      <td>0</td>\n",
       "      <td>0</td>\n",
       "      <td>0</td>\n",
       "      <td>0</td>\n",
       "      <td>8</td>\n",
       "    </tr>\n",
       "    <tr>\n",
       "      <th>4</th>\n",
       "      <td>8</td>\n",
       "      <td>1</td>\n",
       "      <td>D2</td>\n",
       "      <td>26</td>\n",
       "      <td>0.230769</td>\n",
       "      <td>2</td>\n",
       "      <td>3</td>\n",
       "      <td>1</td>\n",
       "      <td>0.417910</td>\n",
       "      <td>0.654545</td>\n",
       "      <td>...</td>\n",
       "      <td>0</td>\n",
       "      <td>0</td>\n",
       "      <td>0</td>\n",
       "      <td>0</td>\n",
       "      <td>0</td>\n",
       "      <td>0</td>\n",
       "      <td>0</td>\n",
       "      <td>0</td>\n",
       "      <td>0</td>\n",
       "      <td>8</td>\n",
       "    </tr>\n",
       "  </tbody>\n",
       "</table>\n",
       "<p>5 rows × 128 columns</p>\n",
       "</div>"
      ],
      "text/plain": [
       "   Id  Product_Info_1 Product_Info_2  Product_Info_3  Product_Info_4  \\\n",
       "0   2               1             D3              10        0.076923   \n",
       "1   5               1             A1              26        0.076923   \n",
       "2   6               1             E1              26        0.076923   \n",
       "3   7               1             D4              10        0.487179   \n",
       "4   8               1             D2              26        0.230769   \n",
       "\n",
       "   Product_Info_5  Product_Info_6  Product_Info_7   Ins_Age        Ht  \\\n",
       "0               2               1               1  0.641791  0.581818   \n",
       "1               2               3               1  0.059701  0.600000   \n",
       "2               2               3               1  0.029851  0.745455   \n",
       "3               2               3               1  0.164179  0.672727   \n",
       "4               2               3               1  0.417910  0.654545   \n",
       "\n",
       "     ...     Medical_Keyword_40  Medical_Keyword_41  Medical_Keyword_42  \\\n",
       "0    ...                      0                   0                   0   \n",
       "1    ...                      0                   0                   0   \n",
       "2    ...                      0                   0                   0   \n",
       "3    ...                      0                   0                   0   \n",
       "4    ...                      0                   0                   0   \n",
       "\n",
       "   Medical_Keyword_43  Medical_Keyword_44  Medical_Keyword_45  \\\n",
       "0                   0                   0                   0   \n",
       "1                   0                   0                   0   \n",
       "2                   0                   0                   0   \n",
       "3                   0                   0                   0   \n",
       "4                   0                   0                   0   \n",
       "\n",
       "   Medical_Keyword_46  Medical_Keyword_47  Medical_Keyword_48  Response  \n",
       "0                   0                   0                   0         8  \n",
       "1                   0                   0                   0         4  \n",
       "2                   0                   0                   0         8  \n",
       "3                   0                   0                   0         8  \n",
       "4                   0                   0                   0         8  \n",
       "\n",
       "[5 rows x 128 columns]"
      ]
     },
     "execution_count": 3,
     "metadata": {},
     "output_type": "execute_result"
    }
   ],
   "source": [
    "print (\"Dimension of the dataset\",df.shape)\n",
    "df.head()"
   ]
  },
  {
   "cell_type": "markdown",
   "metadata": {},
   "source": [
    "<a id=\"labelCount\"></a>\n",
    "## Response Vs No of records"
   ]
  },
  {
   "cell_type": "code",
   "execution_count": 4,
   "metadata": {},
   "outputs": [
    {
     "name": "stdout",
     "output_type": "stream",
     "text": [
      "No of classes available 8\n",
      "target variables [8 4 1 6 2 7 3 5] \n"
     ]
    },
    {
     "data": {
      "image/png": "[encoded data removed]",
      "text/plain": [
       "<matplotlib.figure.Figure at 0x7fa1ace5a320>"
      ]
     },
     "metadata": {},
     "output_type": "display_data"
    }
   ],
   "source": [
    "# Get the unique target variable\n",
    "target_variable = df.Response.unique()\n",
    "print (\"No of classes available %s\\ntarget variables %s \" % (len(target_variable),target_variable ))\n",
    "# Identify the no of records available for each target variable\n",
    "class_distribution = df[[\"Id\",\"Response\"]].groupby(\"Response\").agg(\"count\").rename(index=str,columns={\"Id\":\"count\"})\n",
    "class_distribution.plot(kind='bar')\n",
    "plt.xlabel(\"Response\")\n",
    "plt.ylabel(\"No of Records\")\n",
    "plt.title(\"Independent (Target) variable distribution\")\n",
    "plt.show()"
   ]
  },
  {
   "cell_type": "markdown",
   "metadata": {},
   "source": [
    "The above diagram shows the distribution of independent variable\n",
    "    - Response 8 has high frequency compared to other responses\n",
    "    - Response 3 and 4 has very low frequency\n",
    "    - These both responses makes problem while building model due to imbalance in the class variables\n",
    "    - Need to be careful while splitting data for training and testing because the way we split should be cater for each class with minimum no of records. Randomly split data is not a best option for this"
   ]
  },
  {
   "cell_type": "markdown",
   "metadata": {},
   "source": [
    "<a id=\"preprocess\"></a>\n",
    "## Preprocessing"
   ]
  },
  {
   "cell_type": "code",
   "execution_count": 5,
   "metadata": {},
   "outputs": [
    {
     "data": {
      "text/plain": [
       "Employment_Info_1         19\n",
       "Employment_Info_4       6779\n",
       "Employment_Info_6      10854\n",
       "Insurance_History_5    25396\n",
       "Family_Hist_2          28656\n",
       "Family_Hist_3          34241\n",
       "Family_Hist_4          19184\n",
       "Family_Hist_5          41811\n",
       "Medical_History_1       8889\n",
       "Medical_History_10     58824\n",
       "Medical_History_15     44596\n",
       "Medical_History_24     55580\n",
       "Medical_History_32     58274\n",
       "dtype: int64"
      ]
     },
     "execution_count": 5,
     "metadata": {},
     "output_type": "execute_result"
    }
   ],
   "source": [
    "# Check any missing values available in the data\n",
    "df.isnull().sum()[df.isnull().sum() > 0]"
   ]
  },
  {
   "cell_type": "markdown",
   "metadata": {},
   "source": [
    "Oh! There are huge values are missing in the data."
   ]
  },
  {
   "cell_type": "code",
   "execution_count": 6,
   "metadata": {},
   "outputs": [
    {
     "data": {
      "image/png": "[encoded data removed]",
      "text/plain": [
       "<matplotlib.figure.Figure at 0x7fa1acbd7940>"
      ]
     },
     "metadata": {},
     "output_type": "display_data"
    },
    {
     "name": "stdout",
     "output_type": "stream",
     "text": [
      "In terms of percentage in the overall dataset, There are many columns have more than 50% records are missing\n",
      "Let's see how we can impute those values\n"
     ]
    }
   ],
   "source": [
    "# Check how much percentage of data has been missing in the data\n",
    "missing_df= df.isnull().sum()[df.isnull().sum() !=0]\n",
    "missing_df=pd.DataFrame(missing_df.reset_index())\n",
    "missing_df.rename(columns={'index':'features',0:'missing_count'},inplace=True)\n",
    "missing_df['missing_count_percentage']=((missing_df['missing_count'])/len(df))*100\n",
    "missing_df.index = missing_df['features']\n",
    "missing_df[['missing_count_percentage','features']].plot(kind='barh')\n",
    "plt.ylabel(\"Missing columns\")\n",
    "plt.xlabel(\"% of records\")\n",
    "plt.title(\"Missing values in the columns\")\n",
    "plt.show()\n",
    "\n",
    "############\n",
    "print(\"In terms of percentage in the overall dataset, There are many columns have more than 50% records are missing\")\n",
    "print(\"Let's see how we can impute those values\")"
   ]
  },
  {
   "cell_type": "markdown",
   "metadata": {},
   "source": [
    "The below are data type of missing values columns\n",
    "    - Employment_Info_1, Employment_Info_4, Employment_Info_6,Insurance_History_5, Family_Hist_2, Family_Hist_3, Family_Hist_4, Family_Hist_5 are continous \n",
    "    - Medical_History_1, Medical_History_10, Medical_History_15, Medical_History_24, Medical_History_32 are discrete\n",
    "    \n",
    "Let's start with continous variable first"
   ]
  },
  {
   "cell_type": "code",
   "execution_count": 7,
   "metadata": {},
   "outputs": [
    {
     "data": {
      "text/plain": [
       "8889"
      ]
     },
     "execution_count": 7,
     "metadata": {},
     "output_type": "execute_result"
    }
   ],
   "source": [
    "len(df[df['Medical_History_1'].isnull()])"
   ]
  },
  {
   "cell_type": "code",
   "execution_count": 8,
   "metadata": {},
   "outputs": [
    {
     "data": {
      "image/png": "[encoded data removed]",
      "text/plain": [
       "<matplotlib.figure.Figure at 0x7fa1ace51a20>"
      ]
     },
     "metadata": {},
     "output_type": "display_data"
    }
   ],
   "source": [
    "# Let's draw box plot for Employment Info columns\n",
    "boxplot = df.boxplot(column=['Employment_Info_1','Employment_Info_4','Employment_Info_6'])"
   ]
  },
  {
   "cell_type": "markdown",
   "metadata": {},
   "source": [
    "The above box-plot drawn for Employment info because it has very less missing values.\n",
    "The following are key points,\n",
    "\n",
    "Employment_Info_1:\n",
    "    - It has lot of outlier. So if we take mean value to fill the missing values, It won't makes sense. Should prefer the Median value \n",
    "\n",
    "Employment_Info_4:\n",
    "    - lot of outlier. So we should prefer median value to fill missing values\n",
    "    \n",
    "Employment_Info_6:\n",
    "    - No outliers. Looks good with mean, 25% value and 75% value. There is not much variance in the data.So we should go with mean value to fill missing values"
   ]
  },
  {
   "cell_type": "code",
   "execution_count": 9,
   "metadata": {},
   "outputs": [],
   "source": [
    "df['Employment_Info_1'].fillna(df['Employment_Info_1'].median(),inplace=True)\n",
    "df['Employment_Info_4'].fillna(df['Employment_Info_4'].median(),inplace=True)\n",
    "df['Employment_Info_6'].fillna(df['Employment_Info_6'].mean(),inplace=True)"
   ]
  },
  {
   "cell_type": "code",
   "execution_count": 10,
   "metadata": {},
   "outputs": [
    {
     "name": "stdout",
     "output_type": "stream",
     "text": [
      "Check whether null values are present in the columns\n"
     ]
    },
    {
     "data": {
      "text/plain": [
       "(0, 0, 0)"
      ]
     },
     "execution_count": 10,
     "metadata": {},
     "output_type": "execute_result"
    }
   ],
   "source": [
    "print (\"Check whether null values are present in the columns\")\n",
    "df['Employment_Info_1'].isnull().sum(),df['Employment_Info_4'].isnull().sum(),df['Employment_Info_6'].isnull().sum()"
   ]
  },
  {
   "cell_type": "code",
   "execution_count": 11,
   "metadata": {},
   "outputs": [
    {
     "name": "stdout",
     "output_type": "stream",
     "text": [
      "No of unique values  172 \n",
      " [  4.   5.  10.   0.  nan   6.   1.  39.  61.   8.   2.   3.  22.  11.\n",
      "  19.   7.  16.  12.  49.   9.  13.  15.  47.  57.  24.  23.  62.  28.\n",
      "  44.  32.  17.  18.  34.  30. 153.  21.  86.  14.  25.  36.  42.  26.\n",
      "  20.  64.  29.  55. 124.  27. 114.  40.  31.  41.  46.  76.  51.  65.\n",
      "  66.  78. 154. 147.  37.  80.  71.  85. 105.  53.  56.  68.  52.  77.\n",
      "  33.  50.  73.  35.  70. 182.  95.  43.  72.  84.  54.  48.  38.  45.\n",
      " 112. 134.  88.  63.  69. 158. 120.  59. 100. 119.  74.  82.  58.  97.\n",
      "  90.  96. 123.  94. 160. 156. 113. 176.  60.  75.  91.  79.  81. 121.\n",
      " 103.  83. 240. 128.  93. 136. 122.  87.  92. 110. 178. 175. 171.  89.\n",
      "  67. 169.  99. 229. 223. 109. 146. 118. 141. 107. 104. 117. 130. 159.\n",
      " 172. 108. 191. 201.  98. 161. 115. 173. 102. 106. 162. 150. 125. 179.\n",
      " 148. 132. 116. 138. 126. 193. 101. 239. 185. 145. 143. 111. 155. 131.\n",
      " 180. 127. 228. 187.]\n"
     ]
    }
   ],
   "source": [
    "# Medical History 1 has less missing values. So trying to replace with maximum no of frequency data\n",
    "print(\"No of unique values \",len(df.Medical_History_1.unique()),\"\\n\",df.Medical_History_1.unique())"
   ]
  },
  {
   "cell_type": "code",
   "execution_count": 12,
   "metadata": {},
   "outputs": [],
   "source": [
    "# Fill medical history with most frequent used in the data\n",
    "most_frequent_medicalHistory = int(df[[\"Medical_History_1\",\"Medical_History_2\"]].groupby(\"Medical_History_1\").agg(\"count\").sort_values(['Medical_History_2'], ascending=False).reset_index()[0:1][\"Medical_History_1\"])\n",
    "df[\"Medical_History_1\"].fillna(most_frequent_medicalHistory,inplace=True)"
   ]
  },
  {
   "cell_type": "code",
   "execution_count": 13,
   "metadata": {},
   "outputs": [
    {
     "name": "stdout",
     "output_type": "stream",
     "text": [
      "No of unique values  171 \n",
      " [  4.   5.  10.   0.   1.   6.  39.  61.   8.   2.   3.  22.  11.  19.\n",
      "   7.  16.  12.  49.   9.  13.  15.  47.  57.  24.  23.  62.  28.  44.\n",
      "  32.  17.  18.  34.  30. 153.  21.  86.  14.  25.  36.  42.  26.  20.\n",
      "  64.  29.  55. 124.  27. 114.  40.  31.  41.  46.  76.  51.  65.  66.\n",
      "  78. 154. 147.  37.  80.  71.  85. 105.  53.  56.  68.  52.  77.  33.\n",
      "  50.  73.  35.  70. 182.  95.  43.  72.  84.  54.  48.  38.  45. 112.\n",
      " 134.  88.  63.  69. 158. 120.  59. 100. 119.  74.  82.  58.  97.  90.\n",
      "  96. 123.  94. 160. 156. 113. 176.  60.  75.  91.  79.  81. 121. 103.\n",
      "  83. 240. 128.  93. 136. 122.  87.  92. 110. 178. 175. 171.  89.  67.\n",
      " 169.  99. 229. 223. 109. 146. 118. 141. 107. 104. 117. 130. 159. 172.\n",
      " 108. 191. 201.  98. 161. 115. 173. 102. 106. 162. 150. 125. 179. 148.\n",
      " 132. 116. 138. 126. 193. 101. 239. 185. 145. 143. 111. 155. 131. 180.\n",
      " 127. 228. 187.]\n"
     ]
    }
   ],
   "source": [
    "print(\"No of unique values \",len(df.Medical_History_1.unique()),\"\\n\",df.Medical_History_1.unique())"
   ]
  },
  {
   "cell_type": "code",
   "execution_count": 14,
   "metadata": {},
   "outputs": [
    {
     "name": "stdout",
     "output_type": "stream",
     "text": [
      "count    33985.000000\n",
      "mean         0.001733\n",
      "std          0.007338\n",
      "min          0.000000\n",
      "25%          0.000400\n",
      "50%          0.000973\n",
      "75%          0.002000\n",
      "max          1.000000\n",
      "Name: Insurance_History_5, dtype: float64\n"
     ]
    },
    {
     "data": {
      "image/png": "[encoded data removed]",
      "text/plain": [
       "<matplotlib.figure.Figure at 0x7fa1abfa2cc0>"
      ]
     },
     "metadata": {},
     "output_type": "display_data"
    }
   ],
   "source": [
    "#lets see Insurance_History_5\n",
    "print(df.Insurance_History_5.describe())\n",
    "boxplot = df.boxplot(column=['Insurance_History_5'])"
   ]
  },
  {
   "cell_type": "markdown",
   "metadata": {},
   "source": [
    "Even Insurance_History_5 has lot of outlier in the data. It has 40% more missing values. So Will remove this feature"
   ]
  },
  {
   "cell_type": "code",
   "execution_count": 15,
   "metadata": {},
   "outputs": [],
   "source": [
    "#lets drop features with high number of missing values \n",
    "df.drop(['Medical_History_10','Medical_History_15','Medical_History_24','Medical_History_32','Insurance_History_5',\n",
    "                 'Family_Hist_2','Family_Hist_3','Family_Hist_4','Family_Hist_5'],\n",
    "                axis=1,inplace=True)"
   ]
  },
  {
   "cell_type": "code",
   "execution_count": 16,
   "metadata": {},
   "outputs": [],
   "source": [
    "# convert string into numerical value for product info\n",
    "le=LabelEncoder()\n",
    "df['Product_Info_2']=le.fit_transform(df['Product_Info_2'])"
   ]
  },
  {
   "cell_type": "code",
   "execution_count": 17,
   "metadata": {},
   "outputs": [
    {
     "name": "stdout",
     "output_type": "stream",
     "text": [
      "Final dataframe feature columns  (59381, 119)\n"
     ]
    }
   ],
   "source": [
    "print(\"Final dataframe feature columns \",df.shape)"
   ]
  },
  {
   "cell_type": "markdown",
   "metadata": {},
   "source": [
    "<a id=\"#featureSelection\"></a>\n",
    "## Feature Selection"
   ]
  },
  {
   "cell_type": "code",
   "execution_count": 18,
   "metadata": {},
   "outputs": [
    {
     "name": "stdout",
     "output_type": "stream",
     "text": [
      "##### Important features based on SelectKBest using chi-square value\n",
      "                Features        Score\n",
      "32     Medical_History_1  9949.778760\n",
      "83    Medical_Keyword_15  5639.405401\n",
      "71     Medical_Keyword_3  4339.025870\n",
      "33     Medical_History_2  2749.627783\n",
      "52    Medical_History_23  2186.232874\n",
      "116   Medical_Keyword_48  1650.551405\n",
      "12     Employment_Info_2  1462.347229\n",
      "35     Medical_History_4  1181.399564\n",
      "91    Medical_Keyword_23  1123.683820\n",
      "93    Medical_Keyword_25   987.312671\n",
      "1         Product_Info_2   826.736193\n",
      "3         Product_Info_4   716.825284\n",
      "106   Medical_Keyword_38   714.827753\n",
      "2         Product_Info_3   614.718816\n",
      "45    Medical_History_16   543.331296\n",
      "110   Medical_Keyword_42   534.524096\n",
      "69     Medical_Keyword_1   524.587484\n",
      "10                   BMI   485.966874\n",
      "13     Employment_Info_3   465.641372\n",
      "22         InsuredInfo_6   450.313429\n",
      "105   Medical_Keyword_37   420.561268\n",
      "92    Medical_Keyword_24   410.946069\n",
      "7                Ins_Age   404.887633\n",
      "66    Medical_History_39   369.614400\n",
      "9                     Wt   346.416302\n",
      "108   Medical_Keyword_40   339.499925\n",
      "90    Medical_Keyword_22   247.918094\n",
      "115   Medical_Keyword_47   246.045661\n",
      "78    Medical_Keyword_10   243.143632\n",
      "111   Medical_Keyword_43   242.133121\n",
      "..                   ...          ...\n",
      "86    Medical_Keyword_18    98.786492\n",
      "87    Medical_Keyword_19    89.882964\n",
      "104   Medical_Keyword_36    85.106587\n",
      "80    Medical_Keyword_12    83.267842\n",
      "102   Medical_Keyword_34    76.817414\n",
      "81    Medical_Keyword_13    73.454116\n",
      "96    Medical_Keyword_28    67.506438\n",
      "31         Family_Hist_1    65.841289\n",
      "82    Medical_Keyword_14    64.800995\n",
      "79    Medical_Keyword_11    49.280217\n",
      "75     Medical_Keyword_7    48.501127\n",
      "23         InsuredInfo_7    46.963694\n",
      "89    Medical_Keyword_21    45.244921\n",
      "56    Medical_History_28    44.557732\n",
      "30   Insurance_History_9    43.543800\n",
      "40     Medical_History_9    38.136147\n",
      "109   Medical_Keyword_41    37.197363\n",
      "85    Medical_Keyword_17    36.527097\n",
      "21         InsuredInfo_5    35.043426\n",
      "97    Medical_Keyword_29    33.746022\n",
      "76     Medical_Keyword_8    33.583362\n",
      "24   Insurance_History_1    32.395642\n",
      "11     Employment_Info_1    31.940887\n",
      "73     Medical_Keyword_5    31.858163\n",
      "94    Medical_Keyword_26    30.618919\n",
      "112   Medical_Keyword_44    29.538399\n",
      "61    Medical_History_34    29.430290\n",
      "47    Medical_History_18    29.389412\n",
      "15     Employment_Info_5    28.512267\n",
      "67    Medical_History_40    27.564225\n",
      "\n",
      "[80 rows x 2 columns]\n"
     ]
    }
   ],
   "source": [
    "X = df.iloc[:,1:-1]  # features without ID\n",
    "y = df.iloc[:,-1]    #target column i.e price range\n",
    "\n",
    "#apply SelectKBest class to extract top 80 best features\n",
    "bestfeatures = SelectKBest(score_func=chi2, k=80)\n",
    "fit = bestfeatures.fit(X,y)\n",
    "dfscores = pd.DataFrame(fit.scores_)\n",
    "dfcolumns = pd.DataFrame(X.columns) \n",
    "featureScores = pd.concat([dfcolumns,dfscores],axis=1)\n",
    "featureScores.columns = ['Features','Score']  \n",
    "\n",
    "print(\"##### Important features based on SelectKBest using chi-square value\")\n",
    "print(featureScores.nlargest(80,'Score'))  "
   ]
  },
  {
   "cell_type": "markdown",
   "metadata": {},
   "source": [
    "The above features are more important than other features based on selection.\n",
    "\n",
    "Let's filter these column in main dataframe"
   ]
  },
  {
   "cell_type": "code",
   "execution_count": 19,
   "metadata": {},
   "outputs": [
    {
     "name": "stdout",
     "output_type": "stream",
     "text": [
      "(59381, 81)\n",
      "Index(['Medical_History_1', 'Medical_Keyword_15', 'Medical_Keyword_3',\n",
      "       'Medical_History_2', 'Medical_History_23', 'Medical_Keyword_48',\n",
      "       'Employment_Info_2', 'Medical_History_4', 'Medical_Keyword_23',\n",
      "       'Medical_Keyword_25', 'Product_Info_2', 'Product_Info_4',\n",
      "       'Medical_Keyword_38', 'Product_Info_3', 'Medical_History_16',\n",
      "       'Medical_Keyword_42', 'Medical_Keyword_1', 'BMI', 'Employment_Info_3',\n",
      "       'InsuredInfo_6', 'Medical_Keyword_37', 'Medical_Keyword_24', 'Ins_Age',\n",
      "       'Medical_History_39', 'Wt', 'Medical_Keyword_40', 'Medical_Keyword_22',\n",
      "       'Medical_Keyword_47', 'Medical_Keyword_10', 'Medical_Keyword_43',\n",
      "       'Medical_Keyword_46', 'Medical_Keyword_33', 'Insurance_History_4',\n",
      "       'Insurance_History_7', 'Medical_Keyword_35', 'Insurance_History_3',\n",
      "       'Medical_Keyword_16', 'Medical_History_13', 'Medical_Keyword_27',\n",
      "       'Medical_Keyword_31', 'Medical_History_33', 'Medical_History_29',\n",
      "       'Employment_Info_6', 'Medical_History_41', 'Medical_History_6',\n",
      "       'Medical_Keyword_30', 'Medical_Keyword_9', 'InsuredInfo_1',\n",
      "       'Insurance_History_2', 'Medical_Keyword_4', 'Medical_Keyword_18',\n",
      "       'Medical_Keyword_19', 'Medical_Keyword_36', 'Medical_Keyword_12',\n",
      "       'Medical_Keyword_34', 'Medical_Keyword_13', 'Medical_Keyword_28',\n",
      "       'Family_Hist_1', 'Medical_Keyword_14', 'Medical_Keyword_11',\n",
      "       'Medical_Keyword_7', 'InsuredInfo_7', 'Medical_Keyword_21',\n",
      "       'Medical_History_28', 'Insurance_History_9', 'Medical_History_9',\n",
      "       'Medical_Keyword_41', 'Medical_Keyword_17', 'InsuredInfo_5',\n",
      "       'Medical_Keyword_29', 'Medical_Keyword_8', 'Insurance_History_1',\n",
      "       'Employment_Info_1', 'Medical_Keyword_5', 'Medical_Keyword_26',\n",
      "       'Medical_Keyword_44', 'Medical_History_34', 'Medical_History_18',\n",
      "       'Employment_Info_5', 'Medical_History_40', 'Response'],\n",
      "      dtype='object')\n"
     ]
    }
   ],
   "source": [
    "## Filter important features from the dataframe\n",
    "feature_names_list = featureScores.nlargest(80,'Score')[\"Features\"].tolist()\n",
    "feature_names_list.append(\"Response\")\n",
    "df_important_features = df[feature_names_list]\n",
    "print (df_important_features.shape)\n",
    "print(df_important_features.columns)"
   ]
  },
  {
   "cell_type": "markdown",
   "metadata": {},
   "source": [
    "<a id=\"buildModel\"></a>\n",
    "## Build Model"
   ]
  },
  {
   "cell_type": "markdown",
   "metadata": {},
   "source": [
    "Spliting data:\n",
    "    - We are not using randomized split since class variables are imbalanced\n",
    "    - Trying to use Stratify split data, to make sure each class has same % of split"
   ]
  },
  {
   "cell_type": "code",
   "execution_count": 20,
   "metadata": {},
   "outputs": [
    {
     "name": "stdout",
     "output_type": "stream",
     "text": [
      "Train and test data split\n",
      "(47504, 80) (11877, 80) (47504,) (11877,)\n"
     ]
    }
   ],
   "source": [
    "X_features = df_important_features.iloc[:,:-1]\n",
    "y_lables = df_important_features[\"Response\"]\n",
    "\n",
    "# split train and test data using Stratifed Fashion 80-20 split\n",
    "X_train,X_test,y_train,y_test=train_test_split(X_features,y_lables,stratify=y_lables,test_size=0.20)\n",
    "print (\"Train and test data split\")\n",
    "print(X_train.shape,X_test.shape,y_train.shape,y_test.shape)"
   ]
  },
  {
   "cell_type": "code",
   "execution_count": 21,
   "metadata": {},
   "outputs": [],
   "source": [
    "parameters = {\n",
    "    'n_estimators'      : [320,330,340],\n",
    "    'max_depth'         : [8, 9, 10, 11, 12],\n",
    "    'random_state'      : [0]\n",
    "}"
   ]
  },
  {
   "cell_type": "code",
   "execution_count": 22,
   "metadata": {},
   "outputs": [
    {
     "data": {
      "text/plain": [
       "GridSearchCV(cv=10, error_score='raise',\n",
       "       estimator=RandomForestClassifier(bootstrap=True, class_weight=None, criterion='gini',\n",
       "            max_depth=None, max_features='auto', max_leaf_nodes=None,\n",
       "            min_impurity_decrease=0.0, min_impurity_split=None,\n",
       "            min_samples_leaf=1, min_samples_split=2,\n",
       "            min_weight_fraction_leaf=0.0, n_estimators=10, n_jobs=1,\n",
       "            oob_score=False, random_state=None, verbose=0,\n",
       "            warm_start=False),\n",
       "       fit_params=None, iid=True, n_jobs=-1,\n",
       "       param_grid={'n_estimators': [320, 330, 340], 'max_depth': [8, 9, 10, 11, 12], 'random_state': [0]},\n",
       "       pre_dispatch='2*n_jobs', refit=True, return_train_score='warn',\n",
       "       scoring=None, verbose=0)"
      ]
     },
     "execution_count": 22,
     "metadata": {},
     "output_type": "execute_result"
    }
   ],
   "source": [
    "# use random forest classifier\n",
    "clf = GridSearchCV(RandomForestClassifier(), parameters, cv=10, n_jobs=-1)\n",
    "clf.fit(X_train,y_train)"
   ]
  },
  {
   "cell_type": "code",
   "execution_count": 23,
   "metadata": {},
   "outputs": [
    {
     "name": "stdout",
     "output_type": "stream",
     "text": [
      "Overall accurracy  0.5221015407931295\n"
     ]
    }
   ],
   "source": [
    "predictions = clf.predict(X_test)\n",
    "print(\"Overall accurracy \",accuracy_score(y_test,predictions))"
   ]
  },
  {
   "cell_type": "markdown",
   "metadata": {},
   "source": [
    "Let define function to plot confusion matrix"
   ]
  },
  {
   "cell_type": "code",
   "execution_count": 48,
   "metadata": {},
   "outputs": [],
   "source": [
    "def plot_confusion_matrix(y_true, y_pred, classes,\n",
    "                          normalize=False,\n",
    "                          title=None,\n",
    "                          cmap=plt.cm.Blues):\n",
    "    \"\"\"\n",
    "    This function prints and plots the confusion matrix.\n",
    "    Normalization can be applied by setting `normalize=True`.\n",
    "    \"\"\"\n",
    "    if not title:\n",
    "        if normalize:\n",
    "            title = 'Normalized confusion matrix'\n",
    "        else:\n",
    "            title = 'Confusion matrix, without normalization'\n",
    "\n",
    "    # Compute confusion matrix\n",
    "    cm = confusion_matrix(y_true, y_pred)\n",
    "    # Only use the labels that appear in the data\n",
    "    #classes = [1,2,3,4,5,6,7,8]#classes[unique_labels(y_true, y_pred)]\n",
    "    if normalize:\n",
    "        cm = cm.astype('float') / cm.sum(axis=1)[:, np.newaxis]\n",
    "        print(\"Normalized confusion matrix\")\n",
    "    else:\n",
    "        print('Confusion matrix, without normalization')\n",
    "\n",
    "    print(cm)\n",
    "\n",
    "    fig, ax = plt.subplots()\n",
    "    im = ax.imshow(cm, interpolation='nearest', cmap=cmap)\n",
    "    ax.figure.colorbar(im, ax=ax)\n",
    "    # We want to show all ticks...\n",
    "    ax.set(xticks=np.arange(cm.shape[1]),\n",
    "           yticks=np.arange(cm.shape[0]),\n",
    "           # ... and label them with the respective list entries\n",
    "           xticklabels=classes, yticklabels=classes,\n",
    "           title=title,\n",
    "           ylabel='True label',\n",
    "           xlabel='Predicted label')\n",
    "\n",
    "    # Rotate the tick labels and set their alignment.\n",
    "    plt.setp(ax.get_xticklabels(), rotation=45, ha=\"right\",\n",
    "             rotation_mode=\"anchor\")\n",
    "\n",
    "    # Loop over data dimensions and create text annotations.\n",
    "    fmt = '.2f' if normalize else 'd'\n",
    "    thresh = cm.max() / 2.\n",
    "    for i in range(cm.shape[0]):\n",
    "        for j in range(cm.shape[1]):\n",
    "            ax.text(j, i, format(cm[i, j], fmt),\n",
    "                    ha=\"center\", va=\"center\",\n",
    "                    color=\"white\" if cm[i, j] > thresh else \"black\")\n",
    "    fig.tight_layout()\n",
    "    return ax"
   ]
  },
  {
   "cell_type": "code",
   "execution_count": 69,
   "metadata": {},
   "outputs": [
    {
     "name": "stdout",
     "output_type": "stream",
     "text": [
      "Confusion matrix, without normalization\n",
      "[[ 197  155    0    0   88  332  100  369]\n",
      " [  84  319    0    0  142  334  110  321]\n",
      " [   3   11    0    0   57   94    4   34]\n",
      " [   4    0    0    0    0   91   11  180]\n",
      " [  24   90    2    0  544  252   37  137]\n",
      " [  67   65    0    0   96 1077  198  744]\n",
      " [  14    2    0    0    8  432  465  685]\n",
      " [   3    0    0    0    3  225   68 3599]]\n"
     ]
    },
    {
     "data": {
      "text/plain": [
       "<matplotlib.axes._subplots.AxesSubplot at 0x7fa1abc00a58>"
      ]
     },
     "execution_count": 69,
     "metadata": {},
     "output_type": "execute_result"
    },
    {
     "data": {
      "image/png": "[encoded data removed]",
      "text/plain": [
       "<matplotlib.figure.Figure at 0x7fa19ac602e8>"
      ]
     },
     "metadata": {},
     "output_type": "display_data"
    }
   ],
   "source": [
    "# Plot non-normalized confusion matrix\n",
    "plot_confusion_matrix(y_test, predictions, classes=np.sort(y_train.unique()),\n",
    "                      title='Confusion matrix, without normalization - Random Forest classifier')"
   ]
  },
  {
   "cell_type": "code",
   "execution_count": 61,
   "metadata": {},
   "outputs": [
    {
     "name": "stdout",
     "output_type": "stream",
     "text": [
      "             precision    recall  f1-score   support\n",
      "\n",
      "          1       0.50      0.16      0.24      1241\n",
      "          2       0.50      0.24      0.33      1310\n",
      "          3       0.00      0.00      0.00       203\n",
      "          4       0.00      0.00      0.00       286\n",
      "          5       0.58      0.50      0.54      1086\n",
      "          6       0.38      0.48      0.42      2247\n",
      "          7       0.47      0.29      0.36      1606\n",
      "          8       0.59      0.92      0.72      3898\n",
      "\n",
      "avg / total       0.49      0.52      0.48     11877\n",
      "\n"
     ]
    },
    {
     "name": "stderr",
     "output_type": "stream",
     "text": [
      "/home/narendra/anaconda3/lib/python3.6/site-packages/sklearn/metrics/classification.py:1135: UndefinedMetricWarning: Precision and F-score are ill-defined and being set to 0.0 in labels with no predicted samples.\n",
      "  'precision', 'predicted', average, warn_for)\n"
     ]
    }
   ],
   "source": [
    "print(classification_report(y_test, predictions, target_names=[\"1\",\"2\",\"3\",\"4\",\"5\",\"6\",\"7\",\"8\"]))"
   ]
  },
  {
   "cell_type": "markdown",
   "metadata": {},
   "source": [
    "The above statistics value not much impressive though.\n",
    "\n",
    "    - If you look at class 3 and 4 has 0 precision \n",
    "    - Model is not able to classify those classes."
   ]
  },
  {
   "cell_type": "code",
   "execution_count": 24,
   "metadata": {},
   "outputs": [],
   "source": [
    "xgb_model = xgb.XGBClassifier(objective=\"multi:softprob\", random_state=42)"
   ]
  },
  {
   "cell_type": "code",
   "execution_count": 25,
   "metadata": {},
   "outputs": [
    {
     "data": {
      "text/plain": [
       "XGBClassifier(base_score=0.5, booster='gbtree', colsample_bylevel=1,\n",
       "       colsample_bytree=1, gamma=0, learning_rate=0.1, max_delta_step=0,\n",
       "       max_depth=3, min_child_weight=1, missing=None, n_estimators=100,\n",
       "       n_jobs=1, nthread=None, objective='multi:softprob', random_state=42,\n",
       "       reg_alpha=0, reg_lambda=1, scale_pos_weight=1, seed=None,\n",
       "       silent=True, subsample=1)"
      ]
     },
     "execution_count": 25,
     "metadata": {},
     "output_type": "execute_result"
    }
   ],
   "source": [
    "xgb_model.fit(X_train,y_train)"
   ]
  },
  {
   "cell_type": "code",
   "execution_count": 37,
   "metadata": {
    "scrolled": true
   },
   "outputs": [
    {
     "name": "stdout",
     "output_type": "stream",
     "text": [
      "0.5276584996211164\n",
      "[[3465  114  304    5    5    3    2    0]\n",
      " [ 610  554  407    1    8   25    1    0]\n",
      " [ 613  254 1123   71  117   67    2    0]\n",
      " [ 265  124  334  300  172  113    2    0]\n",
      " [ 124   49  206   94  582   28    0    3]\n",
      " [ 330  111  309  144  111  234    0    2]\n",
      " [ 155    9  112    0    0    5    5    0]\n",
      " [  25    3   95    9   62    5    0    4]]\n"
     ]
    },
    {
     "name": "stderr",
     "output_type": "stream",
     "text": [
      "/home/narendra/anaconda3/lib/python3.6/site-packages/sklearn/preprocessing/label.py:151: DeprecationWarning: The truth value of an empty array is ambiguous. Returning False, but in future this will result in an error. Use `array.size > 0` to check that an array is not empty.\n",
      "  if diff:\n"
     ]
    }
   ],
   "source": [
    "y_pred = xgb_model.predict(X_test)\n",
    "print(accuracy_score(y_test,y_pred))\n",
    "print(confusion_matrix(y_test, y_pred, y_train.unique()))"
   ]
  },
  {
   "cell_type": "code",
   "execution_count": 47,
   "metadata": {},
   "outputs": [
    {
     "name": "stdout",
     "output_type": "stream",
     "text": [
      "Confusion matrix, without normalization\n",
      "[[ 234  144    2    0  111  309  111  330]\n",
      " [ 113  300    0    2  172  334  124  265]\n",
      " [   5    9    4    0   62   95    3   25]\n",
      " [   5    0    0    5    0  112    9  155]\n",
      " [  28   94    3    0  582  206   49  124]\n",
      " [  67   71    0    2  117 1123  254  613]\n",
      " [  25    1    0    1    8  407  554  610]\n",
      " [   3    5    0    2    5  304  114 3465]]\n"
     ]
    },
    {
     "data": {
      "text/plain": [
       "<matplotlib.axes._subplots.AxesSubplot at 0x7fa19b0bf6d8>"
      ]
     },
     "execution_count": 47,
     "metadata": {},
     "output_type": "execute_result"
    },
    {
     "data": {
      "image/png": "[encoded data removed]",
      "text/plain": [
       "<matplotlib.figure.Figure at 0x7fa19b04d7b8>"
      ]
     },
     "metadata": {},
     "output_type": "display_data"
    }
   ],
   "source": [
    "# Plot non-normalized confusion matrix\n",
    "plot_confusion_matrix(y_test, y_pred, classes=y_train.unique(),\n",
    "                      title='Confusion matrix, without normalization')"
   ]
  },
  {
   "cell_type": "code",
   "execution_count": 63,
   "metadata": {},
   "outputs": [
    {
     "name": "stdout",
     "output_type": "stream",
     "text": [
      "             precision    recall  f1-score   support\n",
      "\n",
      "          1       0.49      0.19      0.27      1241\n",
      "          2       0.48      0.23      0.31      1310\n",
      "          3       0.44      0.02      0.04       203\n",
      "          4       0.42      0.02      0.03       286\n",
      "          5       0.55      0.54      0.54      1086\n",
      "          6       0.39      0.50      0.44      2247\n",
      "          7       0.45      0.34      0.39      1606\n",
      "          8       0.62      0.89      0.73      3898\n",
      "\n",
      "avg / total       0.51      0.53      0.49     11877\n",
      "\n"
     ]
    }
   ],
   "source": [
    "print(classification_report(y_test, y_pred, target_names=[\"1\",\"2\",\"3\",\"4\",\"5\",\"6\",\"7\",\"8\"]))"
   ]
  },
  {
   "cell_type": "markdown",
   "metadata": {},
   "source": [
    "Even though this model accurracy is close to same as previous. But, statistics value tells us compartively good as previous model.\n",
    "\n",
    "    - Class 3 and 4 has been able to identify from the model\n",
    "    - Overall precision and recall just increased\n",
    "    \n",
    "So, We can deploy this model as Rest API to test \n",
    "\n"
   ]
  },
  {
   "cell_type": "code",
   "execution_count": 107,
   "metadata": {},
   "outputs": [],
   "source": [
    "# Save model to pkl file \n",
    "\n",
    "import pickle\n",
    "# Dump the trained decision tree classifier with Pickle\n",
    "random_forest_pkl_filename = 'model/random_forest_classifier_gridcv.pkl'\n",
    "# Open the file to save as pkl file\n",
    "random_forest_pkl = open(random_forest_pkl_filename, 'wb')\n",
    "pickle.dump(clf, random_forest_pkl)\n",
    "# Close the pickle instances\n",
    "random_forest_pkl.close()"
   ]
  },
  {
   "cell_type": "code",
   "execution_count": 108,
   "metadata": {},
   "outputs": [],
   "source": [
    "# Dump the trained decision tree classifier with Pickle\n",
    "xgboost_classifier_pkl_filename = 'model/xgboost_classifier.pkl'\n",
    "# Open the file to save as pkl file\n",
    "xgboost_classifier_model_pkl = open(xgboost_classifier_pkl_filename, 'wb')\n",
    "pickle.dump(xgb_model, xgboost_classifier_model_pkl)\n",
    "# Close the pickle instances\n",
    "xgboost_classifier_model_pkl.close()"
   ]
  },
  {
   "cell_type": "markdown",
   "metadata": {},
   "source": [
    "<a id=\"lime\"></a>\n",
    "## Understanding Model with LIME Explainer\n",
    "<br>\n",
    "<center> <img src=\"black_box.png\" title=\"ML\"></img> </center>\n",
    "\n",
    "Once we build the machine learning model is not our job done.\n",
    "\n",
    "Machine learning models are black box models. How do we trust our model? \n",
    "\n",
    "Oh yes. There is Local Interpretable Model-agnostic Explanations (LIME) technique\n",
    "\n",
    "The technique attempts to understand the model by perturbing the input of data samples and understanding how the predictions change."
   ]
  },
  {
   "cell_type": "code",
   "execution_count": null,
   "metadata": {},
   "outputs": [],
   "source": []
  }
 ],
 "metadata": {
  "kernelspec": {
   "display_name": "Python 3",
   "language": "python",
   "name": "python3"
  },
  "language_info": {
   "codemirror_mode": {
    "name": "ipython",
    "version": 3
   },
   "file_extension": ".py",
   "mimetype": "text/x-python",
   "name": "python",
   "nbconvert_exporter": "python",
   "pygments_lexer": "ipython3",
   "version": "3.6.5"
  }
 },
 "nbformat": 4,
 "nbformat_minor": 2
}
